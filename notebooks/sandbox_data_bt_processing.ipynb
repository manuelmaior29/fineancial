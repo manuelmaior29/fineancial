{
 "cells": [
  {
   "cell_type": "code",
   "execution_count": 162,
   "metadata": {},
   "outputs": [],
   "source": [
    "import pandas as pd"
   ]
  },
  {
   "cell_type": "markdown",
   "metadata": {},
   "source": [
    "#### Data sample: _Banca Transilvania transaction report_"
   ]
  },
  {
   "cell_type": "code",
   "execution_count": null,
   "metadata": {},
   "outputs": [],
   "source": [
    "# read rows 9-12\n",
    "df_metadata = pd.read_csv(r\".csv\", skiprows=9, nrows=4)\n",
    "df_metadata.columns = [0, 1]\n",
    "df_metadata\n",
    "# extract account currency\n",
    "account_currency = df_metadata.iloc[1, 1].split(\" \")[-1]\n",
    "account_currency"
   ]
  },
  {
   "cell_type": "code",
   "execution_count": null,
   "metadata": {},
   "outputs": [],
   "source": [
    "df = pd.read_csv(r\".csv\", skiprows=14)\n",
    "df.head()"
   ]
  },
  {
   "cell_type": "markdown",
   "metadata": {},
   "source": [
    "#### Data processing"
   ]
  },
  {
   "cell_type": "markdown",
   "metadata": {},
   "source": [
    "##### Actual transaction date extraction"
   ]
  },
  {
   "cell_type": "code",
   "execution_count": 165,
   "metadata": {},
   "outputs": [],
   "source": [
    "# Extract date from \"Description\" column; format is dd/mm/yyyy\n",
    "df[\"Date\"] = df[\"Description\"].str.extract(r\"(\\d{2}/\\d{2}/\\d{4})\")"
   ]
  },
  {
   "cell_type": "code",
   "execution_count": null,
   "metadata": {},
   "outputs": [],
   "source": [
    "mask_isna_actual_transaction_date = df[\"Date\"].isna()\n",
    "mask_isna_actual_transaction_date.value_counts()"
   ]
  },
  {
   "cell_type": "code",
   "execution_count": null,
   "metadata": {},
   "outputs": [],
   "source": [
    "df[mask_isna_actual_transaction_date].head()"
   ]
  },
  {
   "cell_type": "code",
   "execution_count": null,
   "metadata": {},
   "outputs": [],
   "source": [
    "df.loc[mask_isna_actual_transaction_date, \"Date\"] = df.loc[mask_isna_actual_transaction_date, \"Processing date\"]\n",
    "mask_isna_actual_transaction_date = df[\"Date\"].isna()\n",
    "mask_isna_actual_transaction_date.value_counts()"
   ]
  },
  {
   "cell_type": "code",
   "execution_count": null,
   "metadata": {},
   "outputs": [],
   "source": [
    "df.head()"
   ]
  },
  {
   "cell_type": "markdown",
   "metadata": {},
   "source": [
    "##### Transaction type feature engineering"
   ]
  },
  {
   "cell_type": "code",
   "execution_count": 170,
   "metadata": {},
   "outputs": [],
   "source": [
    "df[\"Transaction type\"] = df.apply(lambda row: \"Income\" if pd.notna(row[\"Credit\"]) else (\"Expense\" if pd.notna(row[\"Debit\"]) else \"Unknown\"), axis=1)"
   ]
  },
  {
   "cell_type": "code",
   "execution_count": null,
   "metadata": {},
   "outputs": [],
   "source": [
    "df.head()"
   ]
  },
  {
   "cell_type": "code",
   "execution_count": null,
   "metadata": {},
   "outputs": [],
   "source": [
    "df[\"Transaction type\"].value_counts()"
   ]
  },
  {
   "cell_type": "markdown",
   "metadata": {},
   "source": [
    "##### Extract currency"
   ]
  },
  {
   "cell_type": "code",
   "execution_count": null,
   "metadata": {},
   "outputs": [],
   "source": [
    "# extract currency from \"Description\" column\n",
    "df[\"Currency\"] = df[\"Description\"].str.extract(r\"(RON|EUR|USD)\")\n",
    "df[\"Currency\"].value_counts()"
   ]
  },
  {
   "cell_type": "code",
   "execution_count": null,
   "metadata": {},
   "outputs": [],
   "source": [
    "df[\"Currency\"].isna().value_counts()"
   ]
  },
  {
   "cell_type": "code",
   "execution_count": 175,
   "metadata": {},
   "outputs": [],
   "source": [
    "df = df.fillna({\"Currency\": account_currency})"
   ]
  },
  {
   "cell_type": "code",
   "execution_count": null,
   "metadata": {},
   "outputs": [],
   "source": [
    "df.head()"
   ]
  },
  {
   "cell_type": "markdown",
   "metadata": {},
   "source": [
    "##### Description relevant text extraction"
   ]
  },
  {
   "cell_type": "code",
   "execution_count": null,
   "metadata": {},
   "outputs": [],
   "source": [
    "df[\"Description\"].head().apply(lambda x: x.split(\";\")[1]).tolist()"
   ]
  },
  {
   "cell_type": "code",
   "execution_count": 178,
   "metadata": {},
   "outputs": [],
   "source": [
    "df[\"Cleaned Transaction Description\"] = df[\"Description\"].apply(lambda x: x.split(\";\")[1])\n",
    "# erase substrings with pattern \"TID:XXXXXXXX\"\n",
    "df[\"Cleaned Transaction Description\"] = df[\"Cleaned Transaction Description\"].str.replace(r\"TID:\\w+\", \"\", regex=True)\n",
    "# erase substrings with pattern \"comision tranzactie XX.XX RON\"\n",
    "df[\"Cleaned Transaction Description\"] = df[\"Cleaned Transaction Description\"].str.replace(r\"comision tranzactie \\d+\\.\\d+ RON\", \"\", regex=True)\n",
    "# erase substrings with pattern \"RRN:XXXXXXXX\"\n",
    "df[\"Cleaned Transaction Description\"] = df[\"Cleaned Transaction Description\"].str.replace(r\"RRN:\\w+\", \"\", regex=True)\n",
    "# erase substrings with pattern \"dd/mm/yyyy XXXXXXXX\"\n",
    "df[\"Cleaned Transaction Description\"] = df[\"Cleaned Transaction Description\"].str.replace(r\"\\d{2}/\\d{2}/\\d{4} \\w+\", \"\", regex=True)\n",
    "# replace multiple spaces with single space\n",
    "df[\"Cleaned Transaction Description\"] = df[\"Cleaned Transaction Description\"].str.replace(r\"\\s+\", \" \", regex=True)\n",
    "# remove leading and trailing spaces\n",
    "df[\"Cleaned Transaction Description\"] = df[\"Cleaned Transaction Description\"].str.strip()\n",
    "# erase substrings with pattern \"RRN: XXXXXXXX\"\n",
    "df[\"Cleaned Transaction Description\"] = df[\"Cleaned Transaction Description\"].str.replace(r\"RRN: \\w+\", \"\", regex=True)"
   ]
  },
  {
   "cell_type": "code",
   "execution_count": null,
   "metadata": {},
   "outputs": [],
   "source": [
    "df[\"Cleaned Transaction Description\"].head().tolist()"
   ]
  },
  {
   "cell_type": "code",
   "execution_count": null,
   "metadata": {},
   "outputs": [],
   "source": [
    "df.head()"
   ]
  },
  {
   "cell_type": "markdown",
   "metadata": {},
   "source": [
    "##### Keep amount in dedicated column"
   ]
  },
  {
   "cell_type": "code",
   "execution_count": null,
   "metadata": {},
   "outputs": [],
   "source": [
    "# extract amount from \"Debit\" or \"Credit\" column, whichever is populated\n",
    "df[\"Amount\"] = df.apply(lambda row: row[\"Debit\"] if pd.notna(row[\"Debit\"]) else row[\"Credit\"], axis=1)\n",
    "df.head()"
   ]
  },
  {
   "cell_type": "code",
   "execution_count": null,
   "metadata": {},
   "outputs": [],
   "source": [
    "columns = [\"Transaction type\", \"Category\", \"Label\", \"Date\", \"Cleaned Transaction Description\", \"Notes\", \"Amount\", \"Currency\"]\n",
    "df_processed = pd.DataFrame(columns=columns)\n",
    "# copy all columns from df to df_processed if column name matches\n",
    "for column in df.columns:\n",
    "    if column in columns:\n",
    "        df_processed[column] = df[column].copy()\n",
    "df_processed.head()"
   ]
  }
 ],
 "metadata": {
  "kernelspec": {
   "display_name": "venv",
   "language": "python",
   "name": "python3"
  },
  "language_info": {
   "codemirror_mode": {
    "name": "ipython",
    "version": 3
   },
   "file_extension": ".py",
   "mimetype": "text/x-python",
   "name": "python",
   "nbconvert_exporter": "python",
   "pygments_lexer": "ipython3",
   "version": "3.12.4"
  }
 },
 "nbformat": 4,
 "nbformat_minor": 2
}
