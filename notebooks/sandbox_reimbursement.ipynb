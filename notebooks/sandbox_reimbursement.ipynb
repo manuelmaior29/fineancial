{
 "cells": [
  {
   "cell_type": "code",
   "execution_count": null,
   "metadata": {},
   "outputs": [],
   "source": [
    "import pandas as pd"
   ]
  },
  {
   "cell_type": "code",
   "execution_count": null,
   "metadata": {},
   "outputs": [],
   "source": [
    "# Populating with dummy data\n",
    "df = pd.DataFrame({\n",
    "    \"ID\": list(range(5)),\n",
    "    \"Type\": [\"Expense\", \"Expense\", \"Expense\", \"Reimbursement\", \"Income\"],\n",
    "    \"Amount\": [300, 14, 25, 500, 100]\n",
    "})"
   ]
  },
  {
   "cell_type": "code",
   "execution_count": 164,
   "metadata": {},
   "outputs": [
    {
     "data": {
      "application/vnd.microsoft.datawrangler.viewer.v0+json": {
       "columns": [
        {
         "name": "index",
         "rawType": "int64",
         "type": "integer"
        },
        {
         "name": "ID",
         "rawType": "int64",
         "type": "integer"
        },
        {
         "name": "Type",
         "rawType": "object",
         "type": "string"
        },
        {
         "name": "Amount",
         "rawType": "int64",
         "type": "integer"
        }
       ],
       "conversionMethod": "pd.DataFrame",
       "ref": "d6f45818-6b07-4b67-ae00-3d82c5500c5f",
       "rows": [
        [
         "0",
         "0",
         "Expense",
         "300"
        ],
        [
         "1",
         "1",
         "Expense",
         "14"
        ],
        [
         "2",
         "2",
         "Expense",
         "25"
        ],
        [
         "3",
         "3",
         "Reimbursement",
         "500"
        ],
        [
         "4",
         "4",
         "Income",
         "100"
        ]
       ],
       "shape": {
        "columns": 3,
        "rows": 5
       }
      },
      "text/html": [
       "<div>\n",
       "<style scoped>\n",
       "    .dataframe tbody tr th:only-of-type {\n",
       "        vertical-align: middle;\n",
       "    }\n",
       "\n",
       "    .dataframe tbody tr th {\n",
       "        vertical-align: top;\n",
       "    }\n",
       "\n",
       "    .dataframe thead th {\n",
       "        text-align: right;\n",
       "    }\n",
       "</style>\n",
       "<table border=\"1\" class=\"dataframe\">\n",
       "  <thead>\n",
       "    <tr style=\"text-align: right;\">\n",
       "      <th></th>\n",
       "      <th>ID</th>\n",
       "      <th>Type</th>\n",
       "      <th>Amount</th>\n",
       "    </tr>\n",
       "  </thead>\n",
       "  <tbody>\n",
       "    <tr>\n",
       "      <th>0</th>\n",
       "      <td>0</td>\n",
       "      <td>Expense</td>\n",
       "      <td>300</td>\n",
       "    </tr>\n",
       "    <tr>\n",
       "      <th>1</th>\n",
       "      <td>1</td>\n",
       "      <td>Expense</td>\n",
       "      <td>14</td>\n",
       "    </tr>\n",
       "    <tr>\n",
       "      <th>2</th>\n",
       "      <td>2</td>\n",
       "      <td>Expense</td>\n",
       "      <td>25</td>\n",
       "    </tr>\n",
       "    <tr>\n",
       "      <th>3</th>\n",
       "      <td>3</td>\n",
       "      <td>Reimbursement</td>\n",
       "      <td>500</td>\n",
       "    </tr>\n",
       "    <tr>\n",
       "      <th>4</th>\n",
       "      <td>4</td>\n",
       "      <td>Income</td>\n",
       "      <td>100</td>\n",
       "    </tr>\n",
       "  </tbody>\n",
       "</table>\n",
       "</div>"
      ],
      "text/plain": [
       "   ID           Type  Amount\n",
       "0   0        Expense     300\n",
       "1   1        Expense      14\n",
       "2   2        Expense      25\n",
       "3   3  Reimbursement     500\n",
       "4   4         Income     100"
      ]
     },
     "execution_count": 164,
     "metadata": {},
     "output_type": "execute_result"
    }
   ],
   "source": [
    "df_transactions = df\n",
    "df_transactions"
   ]
  },
  {
   "cell_type": "code",
   "execution_count": null,
   "metadata": {},
   "outputs": [
    {
     "data": {
      "application/vnd.microsoft.datawrangler.viewer.v0+json": {
       "columns": [
        {
         "name": "index",
         "rawType": "int64",
         "type": "integer"
        },
        {
         "name": "ID",
         "rawType": "int64",
         "type": "integer"
        },
        {
         "name": "Type",
         "rawType": "object",
         "type": "string"
        },
        {
         "name": "Amount",
         "rawType": "int64",
         "type": "integer"
        }
       ],
       "conversionMethod": "pd.DataFrame",
       "ref": "2a08c2fd-eaf5-4a01-ace0-68f20b1daeab",
       "rows": [
        [
         "3",
         "3",
         "Reimbursement",
         "500"
        ]
       ],
       "shape": {
        "columns": 3,
        "rows": 1
       }
      },
      "text/html": [
       "<div>\n",
       "<style scoped>\n",
       "    .dataframe tbody tr th:only-of-type {\n",
       "        vertical-align: middle;\n",
       "    }\n",
       "\n",
       "    .dataframe tbody tr th {\n",
       "        vertical-align: top;\n",
       "    }\n",
       "\n",
       "    .dataframe thead th {\n",
       "        text-align: right;\n",
       "    }\n",
       "</style>\n",
       "<table border=\"1\" class=\"dataframe\">\n",
       "  <thead>\n",
       "    <tr style=\"text-align: right;\">\n",
       "      <th></th>\n",
       "      <th>ID</th>\n",
       "      <th>Type</th>\n",
       "      <th>Amount</th>\n",
       "    </tr>\n",
       "  </thead>\n",
       "  <tbody>\n",
       "    <tr>\n",
       "      <th>3</th>\n",
       "      <td>3</td>\n",
       "      <td>Reimbursement</td>\n",
       "      <td>500</td>\n",
       "    </tr>\n",
       "  </tbody>\n",
       "</table>\n",
       "</div>"
      ],
      "text/plain": [
       "   ID           Type  Amount\n",
       "3   3  Reimbursement     500"
      ]
     },
     "execution_count": 165,
     "metadata": {},
     "output_type": "execute_result"
    }
   ],
   "source": [
    "# Selecting reimbursements\n",
    "df_reimbursements = df[df[\"Type\"] == \"Reimbursement\"]\n",
    "df_reimbursements"
   ]
  },
  {
   "cell_type": "code",
   "execution_count": null,
   "metadata": {},
   "outputs": [
    {
     "data": {
      "application/vnd.microsoft.datawrangler.viewer.v0+json": {
       "columns": [
        {
         "name": "index",
         "rawType": "int64",
         "type": "integer"
        },
        {
         "name": "Reimbursement_ID",
         "rawType": "int64",
         "type": "integer"
        },
        {
         "name": "Expense_ID",
         "rawType": "int64",
         "type": "integer"
        },
        {
         "name": "Amount",
         "rawType": "int64",
         "type": "integer"
        }
       ],
       "conversionMethod": "pd.DataFrame",
       "ref": "b2abfda7-6f21-4ee3-9d18-7a1e23060d5a",
       "rows": [
        [
         "0",
         "3",
         "0",
         "300"
        ],
        [
         "1",
         "3",
         "1",
         "13"
        ],
        [
         "2",
         "3",
         "2",
         "25"
        ]
       ],
       "shape": {
        "columns": 3,
        "rows": 3
       }
      },
      "text/html": [
       "<div>\n",
       "<style scoped>\n",
       "    .dataframe tbody tr th:only-of-type {\n",
       "        vertical-align: middle;\n",
       "    }\n",
       "\n",
       "    .dataframe tbody tr th {\n",
       "        vertical-align: top;\n",
       "    }\n",
       "\n",
       "    .dataframe thead th {\n",
       "        text-align: right;\n",
       "    }\n",
       "</style>\n",
       "<table border=\"1\" class=\"dataframe\">\n",
       "  <thead>\n",
       "    <tr style=\"text-align: right;\">\n",
       "      <th></th>\n",
       "      <th>Reimbursement_ID</th>\n",
       "      <th>Expense_ID</th>\n",
       "      <th>Amount</th>\n",
       "    </tr>\n",
       "  </thead>\n",
       "  <tbody>\n",
       "    <tr>\n",
       "      <th>0</th>\n",
       "      <td>3</td>\n",
       "      <td>0</td>\n",
       "      <td>300</td>\n",
       "    </tr>\n",
       "    <tr>\n",
       "      <th>1</th>\n",
       "      <td>3</td>\n",
       "      <td>1</td>\n",
       "      <td>13</td>\n",
       "    </tr>\n",
       "    <tr>\n",
       "      <th>2</th>\n",
       "      <td>3</td>\n",
       "      <td>2</td>\n",
       "      <td>25</td>\n",
       "    </tr>\n",
       "  </tbody>\n",
       "</table>\n",
       "</div>"
      ],
      "text/plain": [
       "   Reimbursement_ID  Expense_ID  Amount\n",
       "0                 3           0     300\n",
       "1                 3           1      13\n",
       "2                 3           2      25"
      ]
     },
     "execution_count": 166,
     "metadata": {},
     "output_type": "execute_result"
    }
   ],
   "source": [
    "# Composing a temporary table to specify what part of reimbursement goes for which expense\n",
    "df_reimbursements_decomposed = pd.DataFrame(columns=[\"Reimbursement_ID\", \"Expense_ID\", \"Amount\"])\n",
    "df_reimbursements_decomposed.loc[len(df_reimbursements_decomposed)] = [3, 0, 300] # Selected reimbursement from original transactions + reimbursement partial sum from user\n",
    "df_reimbursements_decomposed.loc[len(df_reimbursements_decomposed)] = [3, 1, 13] # Selected reimbursement from original transactions + reimbursement partial sum from user\n",
    "df_reimbursements_decomposed.loc[len(df_reimbursements_decomposed)] = [3, 2, 25] # Selected reimbursement from original transactions + reimbursement partial sum from user\n",
    "df_reimbursements_decomposed"
   ]
  },
  {
   "cell_type": "code",
   "execution_count": null,
   "metadata": {},
   "outputs": [
    {
     "data": {
      "application/vnd.microsoft.datawrangler.viewer.v0+json": {
       "columns": [
        {
         "name": "index",
         "rawType": "int64",
         "type": "integer"
        },
        {
         "name": "ID",
         "rawType": "int64",
         "type": "integer"
        },
        {
         "name": "Type",
         "rawType": "object",
         "type": "string"
        },
        {
         "name": "Expense_ID",
         "rawType": "float64",
         "type": "float"
        },
        {
         "name": "Amount",
         "rawType": "float64",
         "type": "float"
        }
       ],
       "conversionMethod": "pd.DataFrame",
       "ref": "dbe32f68-fbad-46d6-88c2-213a5e2d8d15",
       "rows": [
        [
         "0",
         "0",
         "Expense",
         "0.0",
         "0.0"
        ],
        [
         "1",
         "1",
         "Expense",
         "1.0",
         "1.0"
        ],
        [
         "2",
         "2",
         "Expense",
         "2.0",
         "0.0"
        ],
        [
         "3",
         "3",
         "Reimbursement",
         null,
         "500.0"
        ],
        [
         "4",
         "4",
         "Income",
         null,
         "100.0"
        ]
       ],
       "shape": {
        "columns": 4,
        "rows": 5
       }
      },
      "text/html": [
       "<div>\n",
       "<style scoped>\n",
       "    .dataframe tbody tr th:only-of-type {\n",
       "        vertical-align: middle;\n",
       "    }\n",
       "\n",
       "    .dataframe tbody tr th {\n",
       "        vertical-align: top;\n",
       "    }\n",
       "\n",
       "    .dataframe thead th {\n",
       "        text-align: right;\n",
       "    }\n",
       "</style>\n",
       "<table border=\"1\" class=\"dataframe\">\n",
       "  <thead>\n",
       "    <tr style=\"text-align: right;\">\n",
       "      <th></th>\n",
       "      <th>ID</th>\n",
       "      <th>Type</th>\n",
       "      <th>Expense_ID</th>\n",
       "      <th>Amount</th>\n",
       "    </tr>\n",
       "  </thead>\n",
       "  <tbody>\n",
       "    <tr>\n",
       "      <th>0</th>\n",
       "      <td>0</td>\n",
       "      <td>Expense</td>\n",
       "      <td>0.0</td>\n",
       "      <td>0.0</td>\n",
       "    </tr>\n",
       "    <tr>\n",
       "      <th>1</th>\n",
       "      <td>1</td>\n",
       "      <td>Expense</td>\n",
       "      <td>1.0</td>\n",
       "      <td>1.0</td>\n",
       "    </tr>\n",
       "    <tr>\n",
       "      <th>2</th>\n",
       "      <td>2</td>\n",
       "      <td>Expense</td>\n",
       "      <td>2.0</td>\n",
       "      <td>0.0</td>\n",
       "    </tr>\n",
       "    <tr>\n",
       "      <th>3</th>\n",
       "      <td>3</td>\n",
       "      <td>Reimbursement</td>\n",
       "      <td>NaN</td>\n",
       "      <td>500.0</td>\n",
       "    </tr>\n",
       "    <tr>\n",
       "      <th>4</th>\n",
       "      <td>4</td>\n",
       "      <td>Income</td>\n",
       "      <td>NaN</td>\n",
       "      <td>100.0</td>\n",
       "    </tr>\n",
       "  </tbody>\n",
       "</table>\n",
       "</div>"
      ],
      "text/plain": [
       "   ID           Type  Expense_ID  Amount\n",
       "0   0        Expense         0.0     0.0\n",
       "1   1        Expense         1.0     1.0\n",
       "2   2        Expense         2.0     0.0\n",
       "3   3  Reimbursement         NaN   500.0\n",
       "4   4         Income         NaN   100.0"
      ]
     },
     "execution_count": 167,
     "metadata": {},
     "output_type": "execute_result"
    }
   ],
   "source": [
    "# Step that handles the reimbursement amount\n",
    "df_transactions_reimbursed = df_transactions.merge(df_reimbursements_decomposed[[\"Expense_ID\", \"Amount\"]], how=\"left\", left_on=\"ID\", right_on=\"Expense_ID\")\n",
    "df_transactions_reimbursed[\"Amount\"] = df_transactions_reimbursed.apply(lambda row: row[\"Amount_x\"] - row[\"Amount_y\"] if pd.notna(row[\"Amount_y\"]) else row[\"Amount_x\"], axis=1)\n",
    "df_transactions_reimbursed = df_transactions_reimbursed.drop([\"Amount_x\", \"Amount_y\"], axis=1)\n",
    "df_transactions_reimbursed"
   ]
  },
  {
   "cell_type": "code",
   "execution_count": null,
   "metadata": {},
   "outputs": [
    {
     "data": {
      "application/vnd.microsoft.datawrangler.viewer.v0+json": {
       "columns": [
        {
         "name": "index",
         "rawType": "int64",
         "type": "integer"
        },
        {
         "name": "ID",
         "rawType": "int64",
         "type": "integer"
        },
        {
         "name": "Type",
         "rawType": "object",
         "type": "string"
        },
        {
         "name": "Expense_ID",
         "rawType": "float64",
         "type": "float"
        },
        {
         "name": "Amount",
         "rawType": "float64",
         "type": "float"
        }
       ],
       "conversionMethod": "pd.DataFrame",
       "ref": "e12b14ff-bad5-45da-95f5-7441a119b03b",
       "rows": [
        [
         "0",
         "0",
         "Expense",
         "0.0",
         "0.0"
        ],
        [
         "1",
         "1",
         "Expense",
         "1.0",
         "1.0"
        ],
        [
         "2",
         "2",
         "Expense",
         "2.0",
         "0.0"
        ],
        [
         "3",
         "3",
         "Income",
         null,
         "162.0"
        ],
        [
         "4",
         "4",
         "Income",
         null,
         "100.0"
        ]
       ],
       "shape": {
        "columns": 4,
        "rows": 5
       }
      },
      "text/html": [
       "<div>\n",
       "<style scoped>\n",
       "    .dataframe tbody tr th:only-of-type {\n",
       "        vertical-align: middle;\n",
       "    }\n",
       "\n",
       "    .dataframe tbody tr th {\n",
       "        vertical-align: top;\n",
       "    }\n",
       "\n",
       "    .dataframe thead th {\n",
       "        text-align: right;\n",
       "    }\n",
       "</style>\n",
       "<table border=\"1\" class=\"dataframe\">\n",
       "  <thead>\n",
       "    <tr style=\"text-align: right;\">\n",
       "      <th></th>\n",
       "      <th>ID</th>\n",
       "      <th>Type</th>\n",
       "      <th>Expense_ID</th>\n",
       "      <th>Amount</th>\n",
       "    </tr>\n",
       "  </thead>\n",
       "  <tbody>\n",
       "    <tr>\n",
       "      <th>0</th>\n",
       "      <td>0</td>\n",
       "      <td>Expense</td>\n",
       "      <td>0.0</td>\n",
       "      <td>0.0</td>\n",
       "    </tr>\n",
       "    <tr>\n",
       "      <th>1</th>\n",
       "      <td>1</td>\n",
       "      <td>Expense</td>\n",
       "      <td>1.0</td>\n",
       "      <td>1.0</td>\n",
       "    </tr>\n",
       "    <tr>\n",
       "      <th>2</th>\n",
       "      <td>2</td>\n",
       "      <td>Expense</td>\n",
       "      <td>2.0</td>\n",
       "      <td>0.0</td>\n",
       "    </tr>\n",
       "    <tr>\n",
       "      <th>3</th>\n",
       "      <td>3</td>\n",
       "      <td>Income</td>\n",
       "      <td>NaN</td>\n",
       "      <td>162.0</td>\n",
       "    </tr>\n",
       "    <tr>\n",
       "      <th>4</th>\n",
       "      <td>4</td>\n",
       "      <td>Income</td>\n",
       "      <td>NaN</td>\n",
       "      <td>100.0</td>\n",
       "    </tr>\n",
       "  </tbody>\n",
       "</table>\n",
       "</div>"
      ],
      "text/plain": [
       "   ID     Type  Expense_ID  Amount\n",
       "0   0  Expense         0.0     0.0\n",
       "1   1  Expense         1.0     1.0\n",
       "2   2  Expense         2.0     0.0\n",
       "3   3   Income         NaN   162.0\n",
       "4   4   Income         NaN   100.0"
      ]
     },
     "execution_count": 168,
     "metadata": {},
     "output_type": "execute_result"
    }
   ],
   "source": [
    "# Step that resolves the \"Reimbursement\" transaction:\n",
    "# - A - Not all sum used --> the transaction type is changed to \"Income\"\n",
    "# - B - All sum used --> the transaction is deleted\n",
    "total_reimbursed = df_reimbursements_decomposed[\"Amount\"].sum()\n",
    "if total_reimbursed < df_transactions_reimbursed[df_transactions_reimbursed[\"ID\"] == 3][\"Amount\"].sum():\n",
    "    df_transactions_reimbursed.loc[df_transactions_reimbursed[\"ID\"] == 3, \"Type\"] = \"Income\" \n",
    "    df_transactions_reimbursed.loc[df_transactions_reimbursed[\"ID\"] == 3, \"Amount\"] -= total_reimbursed\n",
    "else:\n",
    "    df_transactions_reimbursed.drop(df_transactions_reimbursed[\"ID\"] == 3, inplace=True)\n",
    "df_transactions_reimbursed"
   ]
  }
 ],
 "metadata": {
  "kernelspec": {
   "display_name": "fineancial",
   "language": "python",
   "name": "python3"
  },
  "language_info": {
   "codemirror_mode": {
    "name": "ipython",
    "version": 3
   },
   "file_extension": ".py",
   "mimetype": "text/x-python",
   "name": "python",
   "nbconvert_exporter": "python",
   "pygments_lexer": "ipython3",
   "version": "3.12.0"
  }
 },
 "nbformat": 4,
 "nbformat_minor": 2
}
