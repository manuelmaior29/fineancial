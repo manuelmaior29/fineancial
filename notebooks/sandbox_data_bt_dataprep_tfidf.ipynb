{
 "cells": [
  {
   "cell_type": "code",
   "execution_count": 220,
   "metadata": {},
   "outputs": [],
   "source": [
    "import pandas as pd"
   ]
  },
  {
   "cell_type": "code",
   "execution_count": 221,
   "metadata": {},
   "outputs": [],
   "source": [
    "import sys\n",
    "sys.path.append(\"..\")\n",
    "from src.preprocessing.parser import BTParser"
   ]
  },
  {
   "cell_type": "code",
   "execution_count": 222,
   "metadata": {},
   "outputs": [],
   "source": [
    "df_transactions = pd.read_csv(\"../data/01.01.2025-11.03.2025_labeled.csv\", sep=\";\")"
   ]
  },
  {
   "cell_type": "code",
   "execution_count": null,
   "metadata": {},
   "outputs": [],
   "source": [
    "df_transactions.head()"
   ]
  },
  {
   "cell_type": "markdown",
   "metadata": {},
   "source": [
    "### Data preparation"
   ]
  },
  {
   "cell_type": "markdown",
   "metadata": {},
   "source": [
    "##### Cleaning"
   ]
  },
  {
   "cell_type": "code",
   "execution_count": 224,
   "metadata": {},
   "outputs": [],
   "source": [
    "df_transactions[\"cleaned_desc\"] = df_transactions[\"cleaned_desc\"].str.replace(\".\", \" \")\n",
    "df_transactions[\"cleaned_desc\"] = df_transactions[\"cleaned_desc\"].str.replace(\",\", \" \")\n",
    "df_transactions[\"cleaned_desc\"] = df_transactions[\"cleaned_desc\"].str.replace(\":\", \" \")\n",
    "df_transactions[\"cleaned_desc\"] = df_transactions[\"cleaned_desc\"].str.replace(\";\", \" \")\n",
    "df_transactions[\"cleaned_desc\"] = df_transactions[\"cleaned_desc\"].str.replace(\"/\", \" \")\n",
    "df_transactions[\"cleaned_desc\"] = df_transactions[\"cleaned_desc\"].str.replace(\"*\", \" \")\n",
    "df_transactions[\"cleaned_desc\"] = df_transactions[\"cleaned_desc\"].str.replace(\"-\", \" \")\n",
    "df_transactions[\"cleaned_desc\"] = df_transactions[\"cleaned_desc\"].str.replace(r\"\\s+\", \" \", regex=True)\n",
    "df_transactions[\"cleaned_desc\"] = df_transactions[\"cleaned_desc\"].str.replace(r\"(\\d+)\", \"\", regex=True)\n",
    "df_transactions[\"cleaned_desc\"] = df_transactions[\"cleaned_desc\"].str.lower()\n",
    "df_transactions[\"cleaned_desc\"] = df_transactions[\"cleaned_desc\"].str.replace(\"pos\", \"\")"
   ]
  },
  {
   "cell_type": "code",
   "execution_count": 225,
   "metadata": {},
   "outputs": [],
   "source": [
    "df_transactions[\"cleaned_desc\"] = df_transactions[\"cleaned_desc\"].fillna(\"\")"
   ]
  },
  {
   "cell_type": "code",
   "execution_count": null,
   "metadata": {},
   "outputs": [],
   "source": [
    "df_transactions"
   ]
  },
  {
   "cell_type": "markdown",
   "metadata": {},
   "source": [
    "##### Fit TF-IDF"
   ]
  },
  {
   "cell_type": "code",
   "execution_count": 227,
   "metadata": {},
   "outputs": [],
   "source": [
    "from sklearn.feature_extraction.text import TfidfVectorizer"
   ]
  },
  {
   "cell_type": "code",
   "execution_count": null,
   "metadata": {},
   "outputs": [],
   "source": [
    "vectorizer = TfidfVectorizer()\n",
    "vectorizer.fit(df_transactions[\"cleaned_desc\"].to_numpy())"
   ]
  },
  {
   "cell_type": "code",
   "execution_count": null,
   "metadata": {},
   "outputs": [],
   "source": [
    "pd.Series(vectorizer.get_feature_names_out())"
   ]
  },
  {
   "cell_type": "code",
   "execution_count": null,
   "metadata": {},
   "outputs": [],
   "source": [
    "pd.DataFrame(vectorizer.transform(df_transactions[\"cleaned_desc\"].to_numpy()).toarray(), columns=vectorizer.get_feature_names_out())"
   ]
  }
 ],
 "metadata": {
  "kernelspec": {
   "display_name": "venv",
   "language": "python",
   "name": "python3"
  },
  "language_info": {
   "codemirror_mode": {
    "name": "ipython",
    "version": 3
   },
   "file_extension": ".py",
   "mimetype": "text/x-python",
   "name": "python",
   "nbconvert_exporter": "python",
   "pygments_lexer": "ipython3",
   "version": "3.12.4"
  }
 },
 "nbformat": 4,
 "nbformat_minor": 2
}
