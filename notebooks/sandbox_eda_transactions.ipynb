{
 "cells": [
  {
   "cell_type": "code",
   "execution_count": 91,
   "metadata": {},
   "outputs": [],
   "source": [
    "import pandas as pd"
   ]
  },
  {
   "cell_type": "markdown",
   "metadata": {},
   "source": [
    "#### Data sample: _Banca Transilvania transaction report_"
   ]
  },
  {
   "cell_type": "code",
   "execution_count": 92,
   "metadata": {},
   "outputs": [],
   "source": [
    "df = pd.read_csv(r\"../data/sample_transactions.csv\")"
   ]
  },
  {
   "cell_type": "code",
   "execution_count": null,
   "metadata": {},
   "outputs": [],
   "source": [
    "df.head()"
   ]
  },
  {
   "cell_type": "markdown",
   "metadata": {},
   "source": [
    "#### Data processing"
   ]
  },
  {
   "cell_type": "code",
   "execution_count": 94,
   "metadata": {},
   "outputs": [],
   "source": [
    "df[\"Balance\"] = df[\"Balance\"].str.replace(\",\", \"\").astype(float)\n",
    "df[\"Transaction date\"] = pd.to_datetime(df[\"Transaction date\"], format=\"%d-%m-%Y\")"
   ]
  },
  {
   "cell_type": "markdown",
   "metadata": {},
   "source": [
    "In the transaction statement multiple types of transactions are specified (e.g., incoming, Round-Up etc.). Keep only transactions that represent payments from the current account."
   ]
  },
  {
   "cell_type": "code",
   "execution_count": 97,
   "metadata": {},
   "outputs": [],
   "source": [
    "df_payments = df.loc[df[\"Description\"].str.contains(\"Plata\")].copy()"
   ]
  },
  {
   "cell_type": "code",
   "execution_count": null,
   "metadata": {},
   "outputs": [],
   "source": [
    "df_payments.head()"
   ]
  },
  {
   "cell_type": "code",
   "execution_count": null,
   "metadata": {},
   "outputs": [],
   "source": [
    "print(\"Sample description 1\")\n",
    "df_payments[\"Description\"][0].split(\";\")"
   ]
  },
  {
   "cell_type": "code",
   "execution_count": null,
   "metadata": {},
   "outputs": [],
   "source": [
    "print(\"Sample description 2\")\n",
    "df_payments[\"Description\"][4].split(\";\")"
   ]
  },
  {
   "cell_type": "code",
   "execution_count": 101,
   "metadata": {},
   "outputs": [],
   "source": [
    "def keep_first_occurence(string):\n",
    "    return \" \".join(set(string.split()))"
   ]
  },
  {
   "cell_type": "code",
   "execution_count": 102,
   "metadata": {},
   "outputs": [],
   "source": [
    "redundant_words = [\"RON\", \"RO\", \"RRN\", \"TID\", \"valoare\", \"tranzactie\", \"comision\"]"
   ]
  },
  {
   "cell_type": "markdown",
   "metadata": {},
   "source": [
    "The transaction description contains different specifications separated by semicolon. We'll be keeping the second section for now, since it contains the merchant name and some additional, related, details. <br>\n",
    "After this processing step, we'll only keep letters, keep only first word occurence for each word, replace multiple spaces with a single one and finally strip the text."
   ]
  },
  {
   "cell_type": "code",
   "execution_count": 103,
   "metadata": {},
   "outputs": [],
   "source": [
    "df_payments[\"Description clean\"] = df_payments[\"Description\"].str.split(\";\", expand=True)[1]\n",
    "df_payments[\"Description clean\"] = df_payments[\"Description clean\"].str.replace(\"[^a-zA-Z]\", \" \", regex=True)\n",
    "df_payments[\"Description clean\"] = df_payments[\"Description clean\"].apply(keep_first_occurence)\n",
    "for word in redundant_words:\n",
    "    df_payments[\"Description clean\"] = df_payments[\"Description clean\"].str.replace(word, \"\", regex=True)\n",
    "df_payments[\"Description clean\"] = df_payments[\"Description clean\"].str.replace(\" +\", \" \", regex=True)\n",
    "df_payments[\"Description clean\"] = df_payments[\"Description clean\"].str.strip()"
   ]
  },
  {
   "cell_type": "code",
   "execution_count": null,
   "metadata": {},
   "outputs": [],
   "source": [
    "df_payments[\"Description clean\"].tolist()"
   ]
  }
 ],
 "metadata": {
  "kernelspec": {
   "display_name": "venv",
   "language": "python",
   "name": "python3"
  },
  "language_info": {
   "codemirror_mode": {
    "name": "ipython",
    "version": 3
   },
   "file_extension": ".py",
   "mimetype": "text/x-python",
   "name": "python",
   "nbconvert_exporter": "python",
   "pygments_lexer": "ipython3",
   "version": "3.12.4"
  }
 },
 "nbformat": 4,
 "nbformat_minor": 2
}
